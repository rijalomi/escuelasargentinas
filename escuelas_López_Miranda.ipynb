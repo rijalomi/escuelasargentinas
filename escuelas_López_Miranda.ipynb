{
  "nbformat": 4,
  "nbformat_minor": 0,
  "metadata": {
    "colab": {
      "provenance": [],
      "authorship_tag": "ABX9TyN2jKMwS15zMdouO9DQFxIo",
      "include_colab_link": true
    },
    "kernelspec": {
      "name": "python3",
      "display_name": "Python 3"
    },
    "language_info": {
      "name": "python"
    }
  },
  "cells": [
    {
      "cell_type": "markdown",
      "metadata": {
        "id": "view-in-github",
        "colab_type": "text"
      },
      "source": [
        "<a href=\"https://colab.research.google.com/github/rijalomi/escuelasargentinas/blob/main/escuelas_L%C3%B3pez_Miranda.ipynb\" target=\"_parent\"><img src=\"https://colab.research.google.com/assets/colab-badge.svg\" alt=\"Open In Colab\"/></a>"
      ]
    },
    {
      "cell_type": "code",
      "execution_count": 32,
      "metadata": {
        "colab": {
          "base_uri": "https://localhost:8080/"
        },
        "id": "wPJN_QtcN60S",
        "outputId": "3ffcfa9c-e450-4ac6-c7d2-5695004e06cd"
      },
      "outputs": [
        {
          "output_type": "stream",
          "name": "stdout",
          "text": [
            "   Jurisdicción   CUE Anexo  \\\n",
            "0  Buenos Aires  60000100.0   \n",
            "1  Buenos Aires  60000200.0   \n",
            "2  Buenos Aires  60000300.0   \n",
            "3  Buenos Aires  60000400.0   \n",
            "4  Buenos Aires  60000600.0   \n",
            "\n",
            "                                              Nombre   Sector  Ámbito  \\\n",
            "0          JARDÍN DE INFANTES Nº915 JAVIER VILLAFAÑE  Estatal  Urbano   \n",
            "1  ESCUELA DE EDUCACIÓN PRIMARIA Nº2 DOMINGO FAUS...  Estatal  Urbano   \n",
            "2                        INSTITUTO PEDRO B. PALACIOS  Privado  Urbano   \n",
            "3                      INSTITUTO JUANA DE IBARBOUROU  Privado  Urbano   \n",
            "4                         ESCUELA DE TEATRO DE MORON  Estatal  Urbano   \n",
            "\n",
            "                               Domicilio    CP Código de área  \\\n",
            "0                     TIRO FEDERAL 712    7300          02281   \n",
            "1                    COLON Y MITRE 498    7300          02281   \n",
            "2  VICTOR MARTINEZ Y OSVALDO SOSA 1946    1757            011   \n",
            "3                        AV. ROJO 4415    1757            011   \n",
            "4                       SAN MARTIN 620    1708            011   \n",
            "\n",
            "   Código localidad              Localidad  ... Ed. Hospitalaria Domiciliaria  \\\n",
            "0         6049005.0                   AZUL  ...                           NaN   \n",
            "1         6049005.0                   AZUL  ...                           NaN   \n",
            "2         6427006.0  GREGORIO DE LAFERRERE  ...                           NaN   \n",
            "3         6427006.0  GREGORIO DE LAFERRERE  ...                           NaN   \n",
            "4         6568004.0                  MORON  ...                           NaN   \n",
            "\n",
            "  Ed. Intercultural Bilingüe Ed. Contexto de Encierro Jardín maternal Inicial  \\\n",
            "0                        NaN                      NaN             NaN       X   \n",
            "1                        NaN                      NaN             NaN     NaN   \n",
            "2                        NaN                      NaN             NaN     NaN   \n",
            "3                        NaN                      NaN             NaN       X   \n",
            "4                        NaN                      NaN             NaN     NaN   \n",
            "\n",
            "  Primaria Secundaria Secundaria Técnica (INET) Superior no Universitario  \\\n",
            "0      NaN        NaN                       NaN                       NaN   \n",
            "1        X        NaN                       NaN                       NaN   \n",
            "2        X        NaN                       NaN                       NaN   \n",
            "3        X        NaN                       NaN                       NaN   \n",
            "4      NaN        NaN                       NaN                         X   \n",
            "\n",
            "  Superior No Universitario (INET);;  \n",
            "0                                 ;;  \n",
            "1                                 ;;  \n",
            "2                                 ;;  \n",
            "3                                 ;;  \n",
            "4                                 ;;  \n",
            "\n",
            "[5 rows x 25 columns]\n"
          ]
        }
      ],
      "source": [
        "import pandas as pd\n",
        "url = 'https://raw.githubusercontent.com/rijalomi/escuelasargentinas/main/escuelas.csv'\n",
        "df = pd.read_csv(url, encoding='ISO-8859-1',  on_bad_lines='skip')\n",
        "print(df.head())"
      ]
    },
    {
      "cell_type": "markdown",
      "source": [
        "Variables potencialmente interesantes:\n",
        "¿Cuál es la distribución de los niveles educativos y programas especiales en cada jurisdicción?\n",
        "¿Existen diferencias significativas entre la educación estatal y privada en cuanto a la oferta de programas especiales o técnicos?\n",
        "¿Cómo se distribuyen geográficamente las instituciones que ofrecen educación técnica o superior?"
      ],
      "metadata": {
        "id": "-3WNf75bbhEw"
      }
    }
  ]
}